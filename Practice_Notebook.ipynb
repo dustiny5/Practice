{
  "nbformat": 4,
  "nbformat_minor": 0,
  "metadata": {
    "colab": {
      "name": "Practice Notebook.ipynb",
      "provenance": [],
      "collapsed_sections": [],
      "include_colab_link": true
    },
    "kernelspec": {
      "name": "python3",
      "display_name": "Python 3"
    }
  },
  "cells": [
    {
      "cell_type": "markdown",
      "metadata": {
        "id": "view-in-github",
        "colab_type": "text"
      },
      "source": [
        "<a href=\"https://colab.research.google.com/github/dustiny5/Practice/blob/master/Practice_Notebook.ipynb\" target=\"_parent\"><img src=\"https://colab.research.google.com/assets/colab-badge.svg\" alt=\"Open In Colab\"/></a>"
      ]
    },
    {
      "cell_type": "markdown",
      "metadata": {
        "id": "BY1Bv3B2pDlk",
        "colab_type": "text"
      },
      "source": [
        "# Prime Numbers"
      ]
    },
    {
      "cell_type": "code",
      "metadata": {
        "id": "MII2AWSet3XY",
        "colab_type": "code",
        "colab": {
          "base_uri": "https://localhost:8080/",
          "height": 35
        },
        "outputId": "e2d7a64f-db17-46bb-82bb-9acec70640ea"
      },
      "source": [
        "n = 2\n",
        "prime_list = [2]\n",
        "\n",
        "while n < 101:\n",
        "  # If even, continue iterating and add 1 to n\n",
        "  if n%2 == 0:\n",
        "    n += 1\n",
        "    continue\n",
        "\n",
        "  # If odd, ...\n",
        "  else:\n",
        "\n",
        "    # Iterate throught half of the prime numbers in the prime_list\n",
        "    for prime in prime_list:\n",
        "\n",
        "      # If n modulo the current prime number is 0\n",
        "      if n%prime == 0:\n",
        "\n",
        "        # Then add 1 to n\n",
        "        n += 1\n",
        "\n",
        "        # Break out of for loop\n",
        "        break\n",
        "      \n",
        "      # If n modulo the current prime number is not 0\n",
        "      elif n%prime != 0:\n",
        "\n",
        "        # Increase counter\n",
        "        counter += 1\n",
        "\n",
        "        # Loop again with the next prime number in the prime list\n",
        "        continue\n",
        "    \n",
        "    # After the for loop ends then \n",
        "    else:\n",
        "        # Append n to prime_list and increase n by 1\n",
        "        prime_list.append(n)\n",
        "        n += 1\n",
        "\n",
        "      \n",
        "print(prime_list)"
      ],
      "execution_count": 65,
      "outputs": [
        {
          "output_type": "stream",
          "text": [
            "[2, 3, 5, 7, 11, 13, 17, 19, 23, 29, 31, 37, 41, 43, 47, 53, 59, 61, 67, 71, 73, 79, 83, 89, 97]\n"
          ],
          "name": "stdout"
        }
      ]
    },
    {
      "cell_type": "code",
      "metadata": {
        "id": "WB_-K4o5D8qN",
        "colab_type": "code",
        "colab": {}
      },
      "source": [
        ""
      ],
      "execution_count": 0,
      "outputs": []
    }
  ]
}