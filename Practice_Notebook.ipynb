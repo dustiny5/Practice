{
  "nbformat": 4,
  "nbformat_minor": 0,
  "metadata": {
    "colab": {
      "name": "Practice Notebook.ipynb",
      "provenance": [],
      "collapsed_sections": [],
      "include_colab_link": true
    },
    "kernelspec": {
      "name": "python3",
      "display_name": "Python 3"
    }
  },
  "cells": [
    {
      "cell_type": "markdown",
      "metadata": {
        "id": "view-in-github",
        "colab_type": "text"
      },
      "source": [
        "<a href=\"https://colab.research.google.com/github/dustiny5/Practice/blob/master/Practice_Notebook.ipynb\" target=\"_parent\"><img src=\"https://colab.research.google.com/assets/colab-badge.svg\" alt=\"Open In Colab\"/></a>"
      ]
    },
    {
      "cell_type": "markdown",
      "metadata": {
        "id": "BY1Bv3B2pDlk",
        "colab_type": "text"
      },
      "source": [
        "# Prime Numbers"
      ]
    },
    {
      "cell_type": "code",
      "metadata": {
        "id": "6MJMdpXGoz8H",
        "colab_type": "code",
        "colab": {
          "base_uri": "https://localhost:8080/",
          "height": 468
        },
        "outputId": "d735bcf9-1a84-4195-da9c-17c6706a80e5"
      },
      "source": [
        "n = 2\n",
        "prime_list = [2,3]\n",
        "\n",
        "while n < 101:\n",
        "  # If even, continue iterating and add 1 to n\n",
        "  if n%2 == 0:\n",
        "    n += 1\n",
        "    continue\n",
        "\n",
        "  # If odd, ...\n",
        "  else:\n",
        "\n",
        "    # x is used as a counter\n",
        "    counter = 0\n",
        "\n",
        "    # Iterate throught half of the prime numbers in the prime_list\n",
        "    while counter < len(prime_list)/2:\n",
        "\n",
        "      # If n modulo the current prime number is 0\n",
        "      if n%prime_list[counter] == 0:\n",
        "\n",
        "        # Then add 1 to n\n",
        "        n += 1\n",
        "\n",
        "        # Break out of nested while loop\n",
        "        break\n",
        "      \n",
        "      # If n modulo the current prime number is not 0\n",
        "      elif n%prime_list[counter] != 0:\n",
        "        # Increase counter and \n",
        "        counter += 1\n",
        "\n",
        "        # Loop again with the next prime number in the prime list\n",
        "        continue\n",
        "    \n",
        "    # Iterated through all the numbers in the list \n",
        "    else:\n",
        "        # Append n to prime_list and increase n by 1\n",
        "        prime_list.append(n)\n",
        "        n += 1\n",
        "\n",
        "      \n",
        "print(prime_list)"
      ],
      "execution_count": 63,
      "outputs": [
        {
          "output_type": "execute_result",
          "data": {
            "text/plain": [
              "[2,\n",
              " 3,\n",
              " 3,\n",
              " 5,\n",
              " 7,\n",
              " 11,\n",
              " 13,\n",
              " 17,\n",
              " 19,\n",
              " 23,\n",
              " 29,\n",
              " 31,\n",
              " 37,\n",
              " 41,\n",
              " 43,\n",
              " 47,\n",
              " 53,\n",
              " 59,\n",
              " 61,\n",
              " 67,\n",
              " 71,\n",
              " 73,\n",
              " 79,\n",
              " 83,\n",
              " 89,\n",
              " 97]"
            ]
          },
          "metadata": {
            "tags": []
          },
          "execution_count": 63
        }
      ]
    },
    {
      "cell_type": "code",
      "metadata": {
        "id": "MII2AWSet3XY",
        "colab_type": "code",
        "colab": {}
      },
      "source": [
        ""
      ],
      "execution_count": 0,
      "outputs": []
    },
    {
      "cell_type": "code",
      "metadata": {
        "id": "WB_-K4o5D8qN",
        "colab_type": "code",
        "colab": {}
      },
      "source": [
        ""
      ],
      "execution_count": 0,
      "outputs": []
    }
  ]
}